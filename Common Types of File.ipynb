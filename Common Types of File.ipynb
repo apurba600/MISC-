{
 "cells": [
  {
   "cell_type": "markdown",
   "id": "213974ff",
   "metadata": {},
   "source": [
    "# Common Types Of File"
   ]
  },
  {
   "cell_type": "markdown",
   "id": "4d3d0871",
   "metadata": {},
   "source": [
    "### There are few common ways to extract data. Such as csv files, json files, XML files, xlsx files, SQL database, API"
   ]
  },
  {
   "cell_type": "markdown",
   "id": "b34dc156",
   "metadata": {},
   "source": [
    "### CSV\n",
    "- these are file type, where the content is divided by commas, so when we load this type of file, the interpretor knows that it is separated by commas\n",
    "- Can open with syntax: with open(filename, \"r\" or \"w\") as f: f.readlines(), this reads the csv file \n",
    "- We can also use Pandas to read the file and set onto a table format, pd.read_csv(filename, skiprows)"
   ]
  },
  {
   "cell_type": "markdown",
   "id": "f6e58bfe",
   "metadata": {},
   "source": [
    "### JSON\n",
    "- These are file type, where the content is put in python dictionary format, usually it has dict inside a list and the dict has keys and values which is separated as a table column.\n",
    "- Can open with syntax: with open(filename, \"r\" or \"w\") as f: f.readlines(), this reads the JSON file \n",
    "- can also use pandas pd.read_csv(filename.json, orient = records ..etc) to open a json file as a table, orient basically means how is the dictionary keys/values set. some have dict as all index or col names, some have column name as key and all values etc..\n",
    "- We can also import Json and use with open() as f: json.load(f) to load the file and json.dump() to encode it as a json file."
   ]
  },
  {
   "cell_type": "markdown",
   "id": "34119f53",
   "metadata": {},
   "source": [
    "### SQL Database\n",
    "- To clarity a database is where data is stored. SQL databases such as SQLpostgre,SQLite etc are just databases, We then use SQL language to query the data that is stored in structured way.\n",
    "- Data can be stored in local machine or now a days, it is stored in the cloud, which is just other machines that use hadoop and mapreduction to distribute storage and computing power.\n",
    "- The libraries used are sqlite3 and sqlalchemy, so import them and use  conn = sqlite3.connect(\"filepath to DB, ends with .db\") or engine = sqlalchemy.create_rngine(\" mention which SQL db(postgre,sqlite etc..filepath to DB, ends with .db\") usually something like this 'sqlite:////home/workspace/3_sql_exercise/population_data.db'\n",
    "- Use pandas read_sql('SELECT \"col\" FROM tablename WHERE \"col\"=\"name\"', conn (instance created with either engine, connect to the database))"
   ]
  },
  {
   "cell_type": "markdown",
   "id": "5dcdd60a",
   "metadata": {},
   "source": [
    "### XML\n",
    "- It is usually in the format of Html files with tags.\n",
    "- Uses beautifulsoup from bs4 to parse the text\n",
    "- can use var.find(tagname) or var.find_all(tagname) to find the content\n",
    "- item.text gives the text that is inbetween ><.\n",
    "- Pandas cannot be used to parse it."
   ]
  },
  {
   "cell_type": "markdown",
   "id": "4b2cfa15",
   "metadata": {},
   "source": [
    "### API \n",
    "-(application programming interface, used to connect to places, server to server, where the database is located. It is done to encourage legal connection so we do not need to directly web scrape, popular sites also have login credentials \n",
    "- url = \"link\"\n",
    "- Use import requests and use r = requests.get(URL)\n",
    "- API format can usually be found in the site. "
   ]
  },
  {
   "cell_type": "code",
   "execution_count": null,
   "id": "d0fa9036",
   "metadata": {},
   "outputs": [],
   "source": []
  }
 ],
 "metadata": {
  "kernelspec": {
   "display_name": "Python 3",
   "language": "python",
   "name": "python3"
  },
  "language_info": {
   "codemirror_mode": {
    "name": "ipython",
    "version": 3
   },
   "file_extension": ".py",
   "mimetype": "text/x-python",
   "name": "python",
   "nbconvert_exporter": "python",
   "pygments_lexer": "ipython3",
   "version": "3.8.8"
  }
 },
 "nbformat": 4,
 "nbformat_minor": 5
}
